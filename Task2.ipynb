{
  "nbformat": 4,
  "nbformat_minor": 0,
  "metadata": {
    "colab": {
      "provenance": [],
      "authorship_tag": "ABX9TyPus6yuO17C4s6MGrI/Gh0n",
      "include_colab_link": true
    },
    "kernelspec": {
      "name": "python3",
      "display_name": "Python 3"
    },
    "language_info": {
      "name": "python"
    }
  },
  "cells": [
    {
      "cell_type": "markdown",
      "metadata": {
        "id": "view-in-github",
        "colab_type": "text"
      },
      "source": [
        "<a href=\"https://colab.research.google.com/github/Khadija-Zafar/DEP/blob/main/Task2.ipynb\" target=\"_parent\"><img src=\"https://colab.research.google.com/assets/colab-badge.svg\" alt=\"Open In Colab\"/></a>"
      ]
    },
    {
      "cell_type": "code",
      "execution_count": 1,
      "metadata": {
        "colab": {
          "base_uri": "https://localhost:8080/"
        },
        "id": "CsJB4mKFc0SH",
        "outputId": "ae07fc96-7c3d-450b-fc14-53156d0bd3aa"
      },
      "outputs": [
        {
          "output_type": "stream",
          "name": "stdout",
          "text": [
            "\n",
            "Naive Bayes Results:\n",
            "Accuracy: 0.9650224215246637\n",
            "Classification Report:\n",
            "              precision    recall  f1-score   support\n",
            "\n",
            "           0       0.96      1.00      0.98       966\n",
            "           1       1.00      0.74      0.85       149\n",
            "\n",
            "    accuracy                           0.97      1115\n",
            "   macro avg       0.98      0.87      0.91      1115\n",
            "weighted avg       0.97      0.97      0.96      1115\n",
            "\n",
            "\n",
            "Support Vector Machine Results:\n",
            "Accuracy: 0.9937219730941704\n",
            "Classification Report:\n",
            "              precision    recall  f1-score   support\n",
            "\n",
            "           0       0.99      1.00      1.00       966\n",
            "           1       1.00      0.95      0.98       149\n",
            "\n",
            "    accuracy                           0.99      1115\n",
            "   macro avg       1.00      0.98      0.99      1115\n",
            "weighted avg       0.99      0.99      0.99      1115\n",
            "\n"
          ]
        }
      ],
      "source": [
        "import pandas as pd\n",
        "from sklearn.model_selection import train_test_split\n",
        "from sklearn.feature_extraction.text import TfidfVectorizer\n",
        "from sklearn.naive_bayes import MultinomialNB\n",
        "from sklearn.svm import SVC\n",
        "from sklearn.metrics import accuracy_score, classification_report\n",
        "\n",
        "data = pd.read_csv('SMSSpamCollection.csv', encoding='latin-1')\n",
        "data = data.rename(columns={\"Label\": \"Target\", \"Message\": \"Text\"})\n",
        "\n",
        "# In the following step we are converting labels to binary (0 for 'ham' and 1 for 'spam')\n",
        "data['Target'] = data['Target'].map({'ham': 0, 'spam': 1})\n",
        "\n",
        "X_train, X_test, y_train, y_test = train_test_split(data['Text'], data['Target'], test_size=0.2, random_state=42)\n",
        "\n",
        "# Now we are vectorizing the text data using TF-IDF\n",
        "tfidf_vectorizer = TfidfVectorizer()\n",
        "X_train_vectorized = tfidf_vectorizer.fit_transform(X_train)\n",
        "X_test_vectorized = tfidf_vectorizer.transform(X_test)\n",
        "\n",
        "# Classifiers\n",
        "classifiers = {\n",
        "    \"Naive Bayes\": MultinomialNB(),\n",
        "    \"Support Vector Machine\": SVC(kernel='linear')\n",
        "}\n",
        "results = {}\n",
        "for clf_name, clf in classifiers.items():\n",
        "    clf.fit(X_train_vectorized, y_train)\n",
        "    y_pred = clf.predict(X_test_vectorized)\n",
        "    accuracy = accuracy_score(y_test, y_pred)\n",
        "    classification_rep = classification_report(y_test, y_pred)\n",
        "    results[clf_name] = {\"Accuracy\": accuracy, \"Classification Report\": classification_rep}\n",
        "\n",
        "for clf_name, result in results.items():\n",
        "    print(f\"\\n{clf_name} Results:\")\n",
        "    print(\"Accuracy:\", result[\"Accuracy\"])\n",
        "    print(\"Classification Report:\")\n",
        "    print(result[\"Classification Report\"])\n"
      ]
    }
  ]
}