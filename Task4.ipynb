{
  "cells": [
    {
      "cell_type": "markdown",
      "metadata": {
        "id": "view-in-github",
        "colab_type": "text"
      },
      "source": [
        "<a href=\"https://colab.research.google.com/github/Khadija-Zafar/DEP/blob/main/Task4.ipynb\" target=\"_parent\"><img src=\"https://colab.research.google.com/assets/colab-badge.svg\" alt=\"Open In Colab\"/></a>"
      ]
    },
    {
      "cell_type": "code",
      "execution_count": null,
      "metadata": {
        "colab": {
          "base_uri": "https://localhost:8080/"
        },
        "id": "oSavs1XZh9Dq",
        "outputId": "2d4ee28d-0ffd-4d06-9f01-f506a89a156b"
      },
      "outputs": [
        {
          "output_type": "stream",
          "name": "stdout",
          "text": [
            "label       0\n",
            "pixel1      0\n",
            "pixel2      0\n",
            "pixel3      0\n",
            "pixel4      0\n",
            "           ..\n",
            "pixel780    0\n",
            "pixel781    0\n",
            "pixel782    0\n",
            "pixel783    0\n",
            "pixel784    0\n",
            "Length: 785, dtype: int64\n",
            "label       0\n",
            "pixel1      0\n",
            "pixel2      0\n",
            "pixel3      0\n",
            "pixel4      0\n",
            "           ..\n",
            "pixel780    0\n",
            "pixel781    0\n",
            "pixel782    0\n",
            "pixel783    0\n",
            "pixel784    0\n",
            "Length: 785, dtype: int64\n",
            "Epoch 1/20\n",
            "687/687 [==============================] - 31s 44ms/step - loss: 3.0199 - accuracy: 0.1086 - val_loss: 2.2290 - val_accuracy: 0.3732\n",
            "Epoch 2/20\n",
            "687/687 [==============================] - 31s 45ms/step - loss: 2.3621 - accuracy: 0.2886 - val_loss: 1.5854 - val_accuracy: 0.6046\n",
            "Epoch 3/20\n",
            "687/687 [==============================] - 31s 46ms/step - loss: 2.0546 - accuracy: 0.3855 - val_loss: 1.2654 - val_accuracy: 0.7174\n",
            "Epoch 4/20\n",
            "687/687 [==============================] - 31s 45ms/step - loss: 1.8986 - accuracy: 0.4378 - val_loss: 1.1319 - val_accuracy: 0.7485\n",
            "Epoch 5/20\n",
            "687/687 [==============================] - 31s 45ms/step - loss: 1.7791 - accuracy: 0.4801 - val_loss: 1.0485 - val_accuracy: 0.7702\n",
            "Epoch 6/20\n",
            "687/687 [==============================] - 30s 44ms/step - loss: 1.6764 - accuracy: 0.5140 - val_loss: 1.0362 - val_accuracy: 0.7623\n",
            "Epoch 7/20\n",
            "687/687 [==============================] - 31s 44ms/step - loss: 1.6219 - accuracy: 0.5330 - val_loss: 0.9337 - val_accuracy: 0.8326\n",
            "Epoch 8/20\n",
            "687/687 [==============================] - 30s 44ms/step - loss: 1.5792 - accuracy: 0.5485 - val_loss: 0.8436 - val_accuracy: 0.8472\n",
            "Epoch 9/20\n",
            "687/687 [==============================] - 31s 45ms/step - loss: 1.5224 - accuracy: 0.5674 - val_loss: 0.8015 - val_accuracy: 0.8572\n",
            "Epoch 10/20\n",
            "687/687 [==============================] - 31s 45ms/step - loss: 1.4836 - accuracy: 0.5763 - val_loss: 0.7898 - val_accuracy: 0.8918\n",
            "Epoch 11/20\n",
            "687/687 [==============================] - 31s 45ms/step - loss: 1.4410 - accuracy: 0.5949 - val_loss: 0.7525 - val_accuracy: 0.8938\n",
            "Epoch 12/20\n",
            "687/687 [==============================] - 31s 45ms/step - loss: 1.4259 - accuracy: 0.6004 - val_loss: 0.7359 - val_accuracy: 0.8736\n",
            "Epoch 13/20\n",
            "687/687 [==============================] - 31s 45ms/step - loss: 1.3917 - accuracy: 0.6069 - val_loss: 0.7401 - val_accuracy: 0.8858\n",
            "Epoch 14/20\n",
            "687/687 [==============================] - 30s 44ms/step - loss: 1.3809 - accuracy: 0.6110 - val_loss: 0.6857 - val_accuracy: 0.8891\n",
            "Epoch 15/20\n",
            "687/687 [==============================] - 31s 45ms/step - loss: 1.3391 - accuracy: 0.6247 - val_loss: 0.7006 - val_accuracy: 0.8789\n",
            "Epoch 16/20\n",
            "687/687 [==============================] - 30s 44ms/step - loss: 1.3210 - accuracy: 0.6385 - val_loss: 0.6398 - val_accuracy: 0.9162\n",
            "Epoch 17/20\n",
            "687/687 [==============================] - 31s 45ms/step - loss: 1.3074 - accuracy: 0.6380 - val_loss: 0.6278 - val_accuracy: 0.8966\n",
            "Epoch 18/20\n",
            "687/687 [==============================] - 32s 46ms/step - loss: 1.2803 - accuracy: 0.6487 - val_loss: 0.6271 - val_accuracy: 0.8958\n",
            "Epoch 19/20\n",
            "687/687 [==============================] - 31s 45ms/step - loss: 1.2741 - accuracy: 0.6504 - val_loss: 0.5944 - val_accuracy: 0.9180\n",
            "Epoch 20/20\n",
            "687/687 [==============================] - 31s 45ms/step - loss: 1.2658 - accuracy: 0.6515 - val_loss: 0.5759 - val_accuracy: 0.9352\n"
          ]
        },
        {
          "output_type": "stream",
          "name": "stderr",
          "text": [
            "/usr/local/lib/python3.10/dist-packages/keras/src/engine/training.py:3103: UserWarning: You are saving your model as an HDF5 file via `model.save()`. This file format is considered legacy. We recommend using instead the native Keras format, e.g. `model.save('my_model.keras')`.\n",
            "  saving_api.save_model(\n"
          ]
        },
        {
          "output_type": "stream",
          "name": "stdout",
          "text": [
            "225/225 [==============================] - 2s 8ms/step - loss: 0.6884 - accuracy: 0.8886\n",
            "Test accuracy: 0.8885945081710815\n"
          ]
        }
      ],
      "source": [
        "import pandas as pd\n",
        "import numpy as np\n",
        "import tensorflow as tf\n",
        "from tensorflow.keras.models import Sequential\n",
        "from tensorflow.keras.layers import Dense, Conv2D, Flatten, MaxPooling2D, Dropout\n",
        "from tensorflow.keras.preprocessing.image import ImageDataGenerator\n",
        "from tensorflow.keras.regularizers import l2\n",
        "from sklearn.model_selection import train_test_split\n",
        "from sklearn.preprocessing import LabelBinarizer\n",
        "\n",
        "train_data = pd.read_csv('sign_mnist_train.csv')\n",
        "test_data = pd.read_csv('sign_mnist_test.csv')\n",
        "print(train_data.isna().sum())\n",
        "print(test_data.isna().sum())\n",
        "\n",
        "train_labels = train_data['label'].values\n",
        "train_features = train_data.drop('label', axis=1).values\n",
        "test_labels = test_data['label'].values\n",
        "test_features = test_data.drop('label', axis=1).values\n",
        "train_features = train_features / 255.0\n",
        "test_features = test_features / 255.0\n",
        "train_features = train_features.reshape(-1, 28, 28, 1)\n",
        "test_features = test_features.reshape(-1, 28, 28, 1)\n",
        "lb = LabelBinarizer()\n",
        "train_labels = lb.fit_transform(train_labels)\n",
        "test_labels = lb.transform(test_labels)\n",
        "X_train, X_val, y_train, y_val = train_test_split(train_features, train_labels, test_size=0.2, random_state=42)\n",
        "\n",
        "datagen = ImageDataGenerator(\n",
        "    rotation_range=10,\n",
        "    width_shift_range=0.1,\n",
        "    height_shift_range=0.1,\n",
        "    zoom_range=0.1,\n",
        "    horizontal_flip=True\n",
        ")\n",
        "datagen.fit(X_train)\n",
        "\n",
        "model = Sequential([\n",
        "    Conv2D(32, kernel_size=(3, 3), activation='relu', input_shape=(28, 28, 1), kernel_regularizer=l2(0.001)),\n",
        "    MaxPooling2D(pool_size=(2, 2)),\n",
        "    Dropout(0.25),\n",
        "    Conv2D(64, kernel_size=(3, 3), activation='relu', kernel_regularizer=l2(0.001)),\n",
        "    MaxPooling2D(pool_size=(2, 2)),\n",
        "    Dropout(0.25),\n",
        "    Flatten(),\n",
        "    Dense(128, activation='relu', kernel_regularizer=l2(0.001)),\n",
        "    Dropout(0.5),\n",
        "    Dense(len(lb.classes_), activation='softmax')\n",
        "])\n",
        "\n",
        "model.compile(optimizer='adam', loss='categorical_crossentropy', metrics=['accuracy'])\n",
        "\n",
        "model.fit(datagen.flow(X_train, y_train, batch_size=32),\n",
        "          validation_data=(X_val, y_val),\n",
        "          epochs=20)\n",
        "\n",
        "model.save('image_classification_model.h5')\n",
        "\n",
        "test_loss, test_accuracy = model.evaluate(test_features, test_labels)\n",
        "print(f'Test accuracy: {test_accuracy}')\n"
      ]
    }
  ],
  "metadata": {
    "colab": {
      "provenance": [],
      "authorship_tag": "ABX9TyPv89+7cm/6nCYm5kinBqxM",
      "include_colab_link": true
    },
    "kernelspec": {
      "display_name": "Python 3",
      "name": "python3"
    },
    "language_info": {
      "name": "python"
    }
  },
  "nbformat": 4,
  "nbformat_minor": 0
}